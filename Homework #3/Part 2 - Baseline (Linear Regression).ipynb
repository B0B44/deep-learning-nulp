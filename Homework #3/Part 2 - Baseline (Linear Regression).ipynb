{
 "cells": [
  {
   "cell_type": "code",
   "execution_count": 9,
   "id": "37cb03f4",
   "metadata": {},
   "outputs": [],
   "source": [
    "%config Completer.use_jedi = False"
   ]
  },
  {
   "cell_type": "code",
   "execution_count": 1,
   "id": "31f1766d",
   "metadata": {},
   "outputs": [],
   "source": [
    "import numpy as np\n",
    "import pandas as pd\n",
    "from sklearn import linear_model\n",
    "from sklearn.metrics import mean_squared_error\n"
   ]
  },
  {
   "cell_type": "code",
   "execution_count": 2,
   "id": "1f38f998",
   "metadata": {},
   "outputs": [
    {
     "data": {
      "text/html": [
       "<div>\n",
       "<style scoped>\n",
       "    .dataframe tbody tr th:only-of-type {\n",
       "        vertical-align: middle;\n",
       "    }\n",
       "\n",
       "    .dataframe tbody tr th {\n",
       "        vertical-align: top;\n",
       "    }\n",
       "\n",
       "    .dataframe thead th {\n",
       "        text-align: right;\n",
       "    }\n",
       "</style>\n",
       "<table border=\"1\" class=\"dataframe\">\n",
       "  <thead>\n",
       "    <tr style=\"text-align: right;\">\n",
       "      <th></th>\n",
       "      <th>Unnamed: 0</th>\n",
       "      <th>dog_id</th>\n",
       "      <th>dog_height</th>\n",
       "      <th>dog_weight</th>\n",
       "      <th>dog_hair_dencity</th>\n",
       "      <th>dog_hair_len</th>\n",
       "      <th>month</th>\n",
       "      <th>daily_stress</th>\n",
       "      <th>daily_weather</th>\n",
       "      <th>daily_horoscope</th>\n",
       "      <th>hair_lost</th>\n",
       "    </tr>\n",
       "  </thead>\n",
       "  <tbody>\n",
       "    <tr>\n",
       "      <th>0</th>\n",
       "      <td>0</td>\n",
       "      <td>0</td>\n",
       "      <td>0.70</td>\n",
       "      <td>25</td>\n",
       "      <td>0.393448</td>\n",
       "      <td>0.1</td>\n",
       "      <td>1</td>\n",
       "      <td>0.621256</td>\n",
       "      <td>0.13</td>\n",
       "      <td>0.01</td>\n",
       "      <td>0.199802</td>\n",
       "    </tr>\n",
       "    <tr>\n",
       "      <th>1</th>\n",
       "      <td>1</td>\n",
       "      <td>1</td>\n",
       "      <td>0.98</td>\n",
       "      <td>19</td>\n",
       "      <td>0.497545</td>\n",
       "      <td>0.4</td>\n",
       "      <td>1</td>\n",
       "      <td>0.621256</td>\n",
       "      <td>0.13</td>\n",
       "      <td>0.01</td>\n",
       "      <td>5.048685</td>\n",
       "    </tr>\n",
       "    <tr>\n",
       "      <th>2</th>\n",
       "      <td>2</td>\n",
       "      <td>2</td>\n",
       "      <td>0.65</td>\n",
       "      <td>24</td>\n",
       "      <td>0.552044</td>\n",
       "      <td>0.2</td>\n",
       "      <td>1</td>\n",
       "      <td>0.621256</td>\n",
       "      <td>0.13</td>\n",
       "      <td>0.01</td>\n",
       "      <td>2.575175</td>\n",
       "    </tr>\n",
       "    <tr>\n",
       "      <th>3</th>\n",
       "      <td>3</td>\n",
       "      <td>3</td>\n",
       "      <td>0.65</td>\n",
       "      <td>21</td>\n",
       "      <td>0.267317</td>\n",
       "      <td>0.6</td>\n",
       "      <td>1</td>\n",
       "      <td>0.621256</td>\n",
       "      <td>0.13</td>\n",
       "      <td>0.01</td>\n",
       "      <td>2.154189</td>\n",
       "    </tr>\n",
       "    <tr>\n",
       "      <th>4</th>\n",
       "      <td>4</td>\n",
       "      <td>4</td>\n",
       "      <td>0.84</td>\n",
       "      <td>11</td>\n",
       "      <td>0.659456</td>\n",
       "      <td>0.5</td>\n",
       "      <td>1</td>\n",
       "      <td>0.621256</td>\n",
       "      <td>0.13</td>\n",
       "      <td>0.01</td>\n",
       "      <td>2.536958</td>\n",
       "    </tr>\n",
       "    <tr>\n",
       "      <th>...</th>\n",
       "      <td>...</td>\n",
       "      <td>...</td>\n",
       "      <td>...</td>\n",
       "      <td>...</td>\n",
       "      <td>...</td>\n",
       "      <td>...</td>\n",
       "      <td>...</td>\n",
       "      <td>...</td>\n",
       "      <td>...</td>\n",
       "      <td>...</td>\n",
       "      <td>...</td>\n",
       "    </tr>\n",
       "    <tr>\n",
       "      <th>149995</th>\n",
       "      <td>149995</td>\n",
       "      <td>15</td>\n",
       "      <td>0.88</td>\n",
       "      <td>14</td>\n",
       "      <td>0.301906</td>\n",
       "      <td>0.9</td>\n",
       "      <td>7</td>\n",
       "      <td>0.286894</td>\n",
       "      <td>0.25</td>\n",
       "      <td>0.02</td>\n",
       "      <td>1.057560</td>\n",
       "    </tr>\n",
       "    <tr>\n",
       "      <th>149996</th>\n",
       "      <td>149996</td>\n",
       "      <td>16</td>\n",
       "      <td>0.83</td>\n",
       "      <td>11</td>\n",
       "      <td>0.077273</td>\n",
       "      <td>0.3</td>\n",
       "      <td>7</td>\n",
       "      <td>0.286894</td>\n",
       "      <td>0.25</td>\n",
       "      <td>0.02</td>\n",
       "      <td>0.758664</td>\n",
       "    </tr>\n",
       "    <tr>\n",
       "      <th>149997</th>\n",
       "      <td>149997</td>\n",
       "      <td>17</td>\n",
       "      <td>0.62</td>\n",
       "      <td>11</td>\n",
       "      <td>0.342119</td>\n",
       "      <td>0.4</td>\n",
       "      <td>7</td>\n",
       "      <td>0.286894</td>\n",
       "      <td>0.25</td>\n",
       "      <td>0.02</td>\n",
       "      <td>0.820447</td>\n",
       "    </tr>\n",
       "    <tr>\n",
       "      <th>149998</th>\n",
       "      <td>149998</td>\n",
       "      <td>18</td>\n",
       "      <td>0.92</td>\n",
       "      <td>19</td>\n",
       "      <td>0.352871</td>\n",
       "      <td>0.1</td>\n",
       "      <td>7</td>\n",
       "      <td>0.286894</td>\n",
       "      <td>0.25</td>\n",
       "      <td>0.02</td>\n",
       "      <td>2.067663</td>\n",
       "    </tr>\n",
       "    <tr>\n",
       "      <th>149999</th>\n",
       "      <td>149999</td>\n",
       "      <td>19</td>\n",
       "      <td>0.79</td>\n",
       "      <td>20</td>\n",
       "      <td>0.789665</td>\n",
       "      <td>0.3</td>\n",
       "      <td>7</td>\n",
       "      <td>0.286894</td>\n",
       "      <td>0.25</td>\n",
       "      <td>0.02</td>\n",
       "      <td>1.511453</td>\n",
       "    </tr>\n",
       "  </tbody>\n",
       "</table>\n",
       "<p>150000 rows × 11 columns</p>\n",
       "</div>"
      ],
      "text/plain": [
       "        Unnamed: 0  dog_id  dog_height  dog_weight  dog_hair_dencity  \\\n",
       "0                0       0        0.70          25          0.393448   \n",
       "1                1       1        0.98          19          0.497545   \n",
       "2                2       2        0.65          24          0.552044   \n",
       "3                3       3        0.65          21          0.267317   \n",
       "4                4       4        0.84          11          0.659456   \n",
       "...            ...     ...         ...         ...               ...   \n",
       "149995      149995      15        0.88          14          0.301906   \n",
       "149996      149996      16        0.83          11          0.077273   \n",
       "149997      149997      17        0.62          11          0.342119   \n",
       "149998      149998      18        0.92          19          0.352871   \n",
       "149999      149999      19        0.79          20          0.789665   \n",
       "\n",
       "        dog_hair_len  month  daily_stress  daily_weather  daily_horoscope  \\\n",
       "0                0.1      1      0.621256           0.13             0.01   \n",
       "1                0.4      1      0.621256           0.13             0.01   \n",
       "2                0.2      1      0.621256           0.13             0.01   \n",
       "3                0.6      1      0.621256           0.13             0.01   \n",
       "4                0.5      1      0.621256           0.13             0.01   \n",
       "...              ...    ...           ...            ...              ...   \n",
       "149995           0.9      7      0.286894           0.25             0.02   \n",
       "149996           0.3      7      0.286894           0.25             0.02   \n",
       "149997           0.4      7      0.286894           0.25             0.02   \n",
       "149998           0.1      7      0.286894           0.25             0.02   \n",
       "149999           0.3      7      0.286894           0.25             0.02   \n",
       "\n",
       "        hair_lost  \n",
       "0        0.199802  \n",
       "1        5.048685  \n",
       "2        2.575175  \n",
       "3        2.154189  \n",
       "4        2.536958  \n",
       "...           ...  \n",
       "149995   1.057560  \n",
       "149996   0.758664  \n",
       "149997   0.820447  \n",
       "149998   2.067663  \n",
       "149999   1.511453  \n",
       "\n",
       "[150000 rows x 11 columns]"
      ]
     },
     "execution_count": 2,
     "metadata": {},
     "output_type": "execute_result"
    }
   ],
   "source": [
    "df = pd.read_csv('dataset.csv')\n",
    "df"
   ]
  },
  {
   "cell_type": "code",
   "execution_count": 3,
   "id": "369e8d1d",
   "metadata": {},
   "outputs": [],
   "source": [
    "y = df.pop('hair_lost')"
   ]
  },
  {
   "cell_type": "code",
   "execution_count": 4,
   "id": "a6405a69",
   "metadata": {},
   "outputs": [],
   "source": [
    "X = df"
   ]
  },
  {
   "cell_type": "code",
   "execution_count": 5,
   "id": "2af75076",
   "metadata": {},
   "outputs": [],
   "source": [
    "lm = linear_model.LinearRegression()\n",
    "model = lm.fit(X,y)\n",
    "prediction = lm.predict(X)"
   ]
  },
  {
   "cell_type": "code",
   "execution_count": 6,
   "id": "2e7de836",
   "metadata": {},
   "outputs": [],
   "source": [
    "import matplotlib.pyplot as plt"
   ]
  },
  {
   "cell_type": "code",
   "execution_count": 7,
   "id": "2841713c",
   "metadata": {},
   "outputs": [
    {
     "data": {
      "text/plain": [
       "<matplotlib.collections.PathCollection at 0x7f1a2c85ec10>"
      ]
     },
     "execution_count": 7,
     "metadata": {},
     "output_type": "execute_result"
    },
    {
     "data": {
      "image/png": "[encoded data removed]",
      "text/plain": [
       "<Figure size 432x288 with 1 Axes>"
      ]
     },
     "metadata": {
      "needs_background": "light"
     },
     "output_type": "display_data"
    }
   ],
   "source": [
    "plt.figure()\n",
    "plt.scatter(prediction, y)\n"
   ]
  },
  {
   "cell_type": "code",
   "execution_count": 8,
   "id": "a27eca63",
   "metadata": {},
   "outputs": [
    {
     "data": {
      "text/plain": [
       "2.000966758889136"
      ]
     },
     "execution_count": 8,
     "metadata": {},
     "output_type": "execute_result"
    }
   ],
   "source": [
    "mean_squared_error(prediction, y)"
   ]
  },
  {
   "cell_type": "code",
   "execution_count": null,
   "id": "b48d5748",
   "metadata": {},
   "outputs": [],
   "source": []
  }
 ],
 "metadata": {
  "kernelspec": {
   "display_name": "Python 3",
   "language": "python",
   "name": "python3"
  },
  "language_info": {
   "codemirror_mode": {
    "name": "ipython",
    "version": 3
   },
   "file_extension": ".py",
   "mimetype": "text/x-python",
   "name": "python",
   "nbconvert_exporter": "python",
   "pygments_lexer": "ipython3",
   "version": "3.8.0"
  }
 },
 "nbformat": 4,
 "nbformat_minor": 5
}
