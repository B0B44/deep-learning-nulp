{
 "cells": [
  {
   "cell_type": "code",
   "execution_count": 4,
   "metadata": {
    "collapsed": true
   },
   "outputs": [],
   "source": [
    "import hashlib\n",
    "import os\n",
    "import tarfile\n",
    "import zipfile\n",
    "\n",
    "import requests\n",
    "\n",
    "#@save\n",
    "DATA_HUB = dict()\n",
    "DATA_URL = 'http://d2l-data.s3-accelerate.amazonaws.com/'"
   ]
  },
  {
   "cell_type": "code",
   "execution_count": 5,
   "outputs": [],
   "source": [
    "def download(name, cache_dir=os.path.join('..', 'data')):  #@save\n",
    "    \"\"\"Download a file inserted into DATA_HUB, return the local filename.\"\"\"\n",
    "    assert name in DATA_HUB, f\"{name} does not exist in {DATA_HUB}.\"\n",
    "    url, sha1_hash = DATA_HUB[name]\n",
    "    os.makedirs(cache_dir, exist_ok=True)\n",
    "    fname = os.path.join(cache_dir, url.split('/')[-1])\n",
    "    if os.path.exists(fname):\n",
    "        sha1 = hashlib.sha1()\n",
    "        with open(fname, 'rb') as f:\n",
    "            while True:\n",
    "                data = f.read(1048576)\n",
    "                if not data:\n",
    "                    break\n",
    "                sha1.update(data)\n",
    "        if sha1.hexdigest() == sha1_hash:\n",
    "            return fname  # Hit cache\n",
    "    print(f'Downloading {fname} from {url}...')\n",
    "    r = requests.get(url, stream=True, verify=True)\n",
    "    with open(fname, 'wb') as f:\n",
    "        f.write(r.content)\n",
    "    return fname"
   ],
   "metadata": {
    "collapsed": false,
    "pycharm": {
     "name": "#%%\n"
    }
   }
  },
  {
   "cell_type": "code",
   "execution_count": 6,
   "outputs": [],
   "source": [
    "def download_extract(name, folder=None):  #@save\n",
    "    \"\"\"Download and extract a zip/tar file.\"\"\"\n",
    "    fname = download(name)\n",
    "    base_dir = os.path.dirname(fname)\n",
    "    data_dir, ext = os.path.splitext(fname)\n",
    "    if ext == '.zip':\n",
    "        fp = zipfile.ZipFile(fname, 'r')\n",
    "    elif ext in ('.tar', '.gz'):\n",
    "        fp = tarfile.open(fname, 'r')\n",
    "    else:\n",
    "        assert False, 'Only zip/tar files can be extracted.'\n",
    "    fp.extractall(base_dir)\n",
    "    return os.path.join(base_dir, folder) if folder else data_dir\n",
    "\n",
    "def download_all():  #@save\n",
    "    \"\"\"Download all files in the DATA_HUB.\"\"\"\n",
    "    for name in DATA_HUB:\n",
    "        download(name)"
   ],
   "metadata": {
    "collapsed": false,
    "pycharm": {
     "name": "#%%\n"
    }
   }
  },
  {
   "cell_type": "code",
   "execution_count": 7,
   "outputs": [],
   "source": [
    "DATA_HUB['kaggle_house_train'] = (  #@save\n",
    "    DATA_URL + 'kaggle_house_pred_train.csv',\n",
    "    '585e9cc93e70b39160e7921475f9bcd7d31219ce')\n",
    "\n",
    "DATA_HUB['kaggle_house_test'] = (  #@save\n",
    "    DATA_URL + 'kaggle_house_pred_test.csv',\n",
    "    'fa19780a7b011d9b009e8bff8e99922a8ee2eb90')"
   ],
   "metadata": {
    "collapsed": false,
    "pycharm": {
     "name": "#%%\n"
    }
   }
  },
  {
   "cell_type": "code",
   "execution_count": 21,
   "outputs": [],
   "source": [
    "import pandas as pd\n",
    "\n",
    "train_data = pd.read_csv(download('kaggle_house_train'))\n",
    "test_data = pd.read_csv(download('kaggle_house_test'))"
   ],
   "metadata": {
    "collapsed": false,
    "pycharm": {
     "name": "#%%\n"
    }
   }
  },
  {
   "cell_type": "code",
   "execution_count": 22,
   "outputs": [],
   "source": [
    "train_labels = train_data.SalePrice\n",
    "train_data.pop('SalePrice')\n",
    "train_features = train_data\n",
    "test_features = test_data\n",
    "\n",
    "del train_data\n",
    "del test_data"
   ],
   "metadata": {
    "collapsed": false,
    "pycharm": {
     "name": "#%%\n"
    }
   }
  },
  {
   "cell_type": "code",
   "execution_count": 25,
   "outputs": [
    {
     "data": {
      "text/plain": "LotFrontage    259\nMasVnrArea       8\nGarageYrBlt     81\ndtype: int64"
     },
     "execution_count": 25,
     "metadata": {},
     "output_type": "execute_result"
    }
   ],
   "source": [
    "numeric_features = train_features.select_dtypes(exclude=['object']).columns\n",
    "nulls = train_features[numeric_features].isna().sum()\n",
    "nulls[nulls > 0]"
   ],
   "metadata": {
    "collapsed": false,
    "pycharm": {
     "name": "#%%\n"
    }
   }
  },
  {
   "cell_type": "code",
   "execution_count": 26,
   "outputs": [
    {
     "data": {
      "text/plain": "<AxesSubplot:ylabel='Density'>"
     },
     "execution_count": 26,
     "metadata": {},
     "output_type": "execute_result"
    },
    {
     "data": {
      "text/plain": "<Figure size 432x288 with 1 Axes>",
      "image/png": "[encoded data removed]"
     },
     "metadata": {
      "needs_background": "light"
     },
     "output_type": "display_data"
    }
   ],
   "source": [
    "train_features.LotFrontage.plot.density()"
   ],
   "metadata": {
    "collapsed": false,
    "pycharm": {
     "name": "#%%\n"
    }
   }
  },
  {
   "cell_type": "code",
   "execution_count": 28,
   "outputs": [
    {
     "data": {
      "text/plain": "<AxesSubplot:ylabel='Density'>"
     },
     "execution_count": 28,
     "metadata": {},
     "output_type": "execute_result"
    },
    {
     "data": {
      "text/plain": "<Figure size 432x288 with 1 Axes>",
      "image/png": "[encoded data removed]"
     },
     "metadata": {
      "needs_background": "light"
     },
     "output_type": "display_data"
    }
   ],
   "source": [
    "train_features.MasVnrArea.plot.density()"
   ],
   "metadata": {
    "collapsed": false,
    "pycharm": {
     "name": "#%%\n"
    }
   }
  },
  {
   "cell_type": "code",
   "execution_count": 29,
   "outputs": [
    {
     "data": {
      "text/plain": "<AxesSubplot:ylabel='Density'>"
     },
     "execution_count": 29,
     "metadata": {},
     "output_type": "execute_result"
    },
    {
     "data": {
      "text/plain": "<Figure size 432x288 with 1 Axes>",
      "image/png": "[encoded data removed]"
     },
     "metadata": {
      "needs_background": "light"
     },
     "output_type": "display_data"
    }
   ],
   "source": [
    "train_features.GarageYrBlt.plot.density()"
   ],
   "metadata": {
    "collapsed": false,
    "pycharm": {
     "name": "#%%\n"
    }
   }
  },
  {
   "cell_type": "code",
   "execution_count": 32,
   "outputs": [
    {
     "name": "stderr",
     "output_type": "stream",
     "text": [
      "C:\\Users\\roman\\AppData\\Local\\Temp/ipykernel_15988/2511272739.py:1: FutureWarning: Dropping of nuisance columns in DataFrame reductions (with 'numeric_only=None') is deprecated; in a future version this will raise TypeError.  Select only valid columns before calling the reduction.\n",
      "  train_features.fillna(train_features.mean(), inplace=True)\n",
      "C:\\Users\\roman\\AppData\\Local\\Temp/ipykernel_15988/2511272739.py:3: FutureWarning: Dropping of nuisance columns in DataFrame reductions (with 'numeric_only=None') is deprecated; in a future version this will raise TypeError.  Select only valid columns before calling the reduction.\n",
      "  test_features.fillna(train_features.mean(), inplace=True)\n"
     ]
    }
   ],
   "source": [
    "train_features.fillna(train_features.mean(), inplace=True)\n",
    "# note filling with train features mean only!\n",
    "test_features.fillna(train_features.mean(), inplace=True)"
   ],
   "metadata": {
    "collapsed": false,
    "pycharm": {
     "name": "#%%\n"
    }
   }
  },
  {
   "cell_type": "code",
   "execution_count": 34,
   "outputs": [],
   "source": [
    "train_features = pd.get_dummies(train_features, dummy_na=True)\n",
    "test_features = pd.get_dummies(test_features, dummy_na=True)"
   ],
   "metadata": {
    "collapsed": false,
    "pycharm": {
     "name": "#%%\n"
    }
   }
  },
  {
   "cell_type": "code",
   "execution_count": 49,
   "outputs": [],
   "source": [
    "from tensorflow.keras.initializers import GlorotUniform, RandomNormal, GlorotNormal, HeNormal, LecunNormal\n",
    "from tensorflow.keras.layers.experimental.preprocessing import Normalization\n",
    "\n",
    "from tensorflow import keras\n",
    "\n",
    "from keras import callbacks\n",
    "from tensorflow.keras.layers import Dense, ReLU\n",
    "from keras import losses"
   ],
   "metadata": {
    "collapsed": false,
    "pycharm": {
     "name": "#%%\n"
    }
   }
  },
  {
   "cell_type": "code",
   "execution_count": 105,
   "outputs": [],
   "source": [
    "def run_experiment(X_train, y_train, run_name,\n",
    "                   activation=None,\n",
    "                   kernel_initializer=None,\n",
    "                   regularization='l2'):\n",
    "    if activation is None:\n",
    "        activation = ReLU()\n",
    "    if kernel_initializer is None:\n",
    "        kernel_initializer = GlorotUniform()\n",
    "\n",
    "    normalizer = Normalization(axis=-1)\n",
    "    normalizer.adapt(X_train)\n",
    "\n",
    "    model = keras.Sequential([\n",
    "        normalizer,\n",
    "        Dense(512, kernel_regularizer=regularization, activation=activation, kernel_initializer=kernel_initializer),\n",
    "        Dense(256, kernel_regularizer=regularization, activation=activation, kernel_initializer=kernel_initializer),\n",
    "        Dense(128, kernel_regularizer=regularization, activation=activation, kernel_initializer=kernel_initializer),\n",
    "        Dense(64, kernel_regularizer=regularization, activation=activation, kernel_initializer=kernel_initializer),\n",
    "        Dense(1, activation='relu')\n",
    "    ])\n",
    "\n",
    "    model.compile(optimizer=keras.optimizers.Adam(learning_rate=.1),\n",
    "                  loss=losses.MeanSquaredLogarithmicError())\n",
    "\n",
    "    callback_list = [\n",
    "        callbacks.ReduceLROnPlateau(monitor='val_loss', factor=0.5,\n",
    "                                    patience=3, min_lr=1e-6, mode='min'),\n",
    "        callbacks.EarlyStopping(monitor='val_loss', patience=40,\n",
    "                                min_delta=1e-6, mode='min',\n",
    "                                restore_best_weights=True),\n",
    "        callbacks.ModelCheckpoint(filepath=f'checkpoints/{run_name}',\n",
    "                                  save_weights_only=True,\n",
    "                                  monitor='val_loss', mode='min',),\n",
    "        callbacks.TensorBoard(log_dir=f'logs/{run_name}'),\n",
    "        callbacks.TerminateOnNaN()\n",
    "    ]\n",
    "\n",
    "    result = model.fit(x=X_train, y=y_train,\n",
    "                       epochs=10000, validation_split=.1,\n",
    "                       callbacks=callback_list,\n",
    "                       verbose=0\n",
    "                       )\n",
    "    evaluation = model.evaluate(X_train, y_train, verbose=0, )\n",
    "    print(f'{run_name:>30} | epochs: {len(result.epoch):4} | loss: {evaluation:>6.5}')\n",
    "    return result"
   ],
   "metadata": {
    "collapsed": false,
    "pycharm": {
     "name": "#%%\n"
    }
   }
  },
  {
   "cell_type": "code",
   "execution_count": 75,
   "outputs": [
    {
     "name": "stdout",
     "output_type": "stream",
     "text": [
      "                      baseline | epochs:  178 | loss: 0.26968\n"
     ]
    }
   ],
   "source": [
    "history = run_experiment(train_features, train_labels, run_name='baseline')"
   ],
   "metadata": {
    "collapsed": false,
    "pycharm": {
     "name": "#%%\n"
    }
   }
  },
  {
   "cell_type": "code",
   "execution_count": 76,
   "outputs": [
    {
     "name": "stdout",
     "output_type": "stream",
     "text": [
      "      kernel_init_RandomNormal | epochs:  192 | loss: 0.25442\n",
      "      kernel_init_GlorotNormal | epochs:  147 | loss: 0.26995\n",
      "          kernel_init_HeNormal | epochs:  169 | loss: 0.2597\n",
      "       kernel_init_LecunNormal | epochs:  155 | loss: 0.28609\n"
     ]
    }
   ],
   "source": [
    "for initializer in [RandomNormal(), GlorotNormal(), HeNormal(), LecunNormal()]:\n",
    "    run_experiment(train_features, train_labels,\n",
    "                   run_name=f'kernel_init_{initializer.__class__.__name__}',\n",
    "                   kernel_initializer=initializer)"
   ],
   "metadata": {
    "collapsed": false,
    "pycharm": {
     "name": "#%%\n"
    }
   }
  },
  {
   "cell_type": "code",
   "execution_count": 90,
   "outputs": [],
   "source": [
    "from keras.activations import sigmoid, tanh, relu, elu, selu, gelu"
   ],
   "metadata": {
    "collapsed": false,
    "pycharm": {
     "name": "#%%\n"
    }
   }
  },
  {
   "cell_type": "code",
   "execution_count": 97,
   "outputs": [
    {
     "name": "stdout",
     "output_type": "stream",
     "text": [
      "            activation_sigmoid | epochs:  772 | loss: 0.2225\n"
     ]
    },
    {
     "data": {
      "text/plain": "<keras.callbacks.History at 0x1f2883818b0>"
     },
     "execution_count": 97,
     "metadata": {},
     "output_type": "execute_result"
    }
   ],
   "source": [
    "activation = sigmoid\n",
    "run_experiment(train_features, train_labels,\n",
    "               run_name=f'activation_{activation.__name__}',\n",
    "               activation=activation,\n",
    "               kernel_initializer=GlorotNormal())"
   ],
   "metadata": {
    "collapsed": false,
    "pycharm": {
     "name": "#%%\n"
    }
   }
  },
  {
   "cell_type": "code",
   "execution_count": 98,
   "outputs": [
    {
     "name": "stdout",
     "output_type": "stream",
     "text": [
      "               activation_tanh | epochs:  793 | loss: 0.16986\n"
     ]
    },
    {
     "data": {
      "text/plain": "<keras.callbacks.History at 0x1f288e9b580>"
     },
     "execution_count": 98,
     "metadata": {},
     "output_type": "execute_result"
    }
   ],
   "source": [
    "activation = tanh\n",
    "run_experiment(train_features, train_labels,\n",
    "               run_name=f'activation_{activation.__name__}',\n",
    "               activation=activation,\n",
    "               kernel_initializer=GlorotNormal())"
   ],
   "metadata": {
    "collapsed": false,
    "pycharm": {
     "name": "#%%\n"
    }
   }
  },
  {
   "cell_type": "code",
   "execution_count": 99,
   "outputs": [
    {
     "name": "stdout",
     "output_type": "stream",
     "text": [
      "               activation_relu | epochs:  176 | loss: 0.28126\n"
     ]
    },
    {
     "data": {
      "text/plain": "<keras.callbacks.History at 0x1f28830aee0>"
     },
     "execution_count": 99,
     "metadata": {},
     "output_type": "execute_result"
    }
   ],
   "source": [
    "activation = relu\n",
    "run_experiment(train_features, train_labels,\n",
    "               run_name=f'activation_{activation.__name__}',\n",
    "               activation=activation,\n",
    "               kernel_initializer=HeNormal())"
   ],
   "metadata": {
    "collapsed": false,
    "pycharm": {
     "name": "#%%\n"
    }
   }
  },
  {
   "cell_type": "code",
   "execution_count": 107,
   "outputs": [
    {
     "name": "stdout",
     "output_type": "stream",
     "text": [
      "                activation_elu | epochs:  123 | loss: 0.35077\n"
     ]
    },
    {
     "data": {
      "text/plain": "<keras.callbacks.History at 0x1f27f4456d0>"
     },
     "execution_count": 107,
     "metadata": {},
     "output_type": "execute_result"
    }
   ],
   "source": [
    "activation = elu\n",
    "run_experiment(train_features, train_labels,\n",
    "               run_name=f'activation_{activation.__name__}',\n",
    "               activation=activation,\n",
    "               kernel_initializer=HeNormal())"
   ],
   "metadata": {
    "collapsed": false,
    "pycharm": {
     "name": "#%%\n"
    }
   }
  },
  {
   "cell_type": "code",
   "execution_count": 101,
   "outputs": [
    {
     "name": "stdout",
     "output_type": "stream",
     "text": [
      "               activation_selu | epochs:  181 | loss: 0.28121\n"
     ]
    },
    {
     "data": {
      "text/plain": "<keras.callbacks.History at 0x1f286b21100>"
     },
     "execution_count": 101,
     "metadata": {},
     "output_type": "execute_result"
    }
   ],
   "source": [
    "activation = selu\n",
    "run_experiment(train_features, train_labels,\n",
    "               run_name=f'activation_{activation.__name__}',\n",
    "               activation=activation,\n",
    "               kernel_initializer=HeNormal())"
   ],
   "metadata": {
    "collapsed": false,
    "pycharm": {
     "name": "#%%\n"
    }
   }
  },
  {
   "cell_type": "code",
   "execution_count": 108,
   "outputs": [
    {
     "name": "stdout",
     "output_type": "stream",
     "text": [
      "               activation_gelu | epochs:  135 | loss: 0.29882\n"
     ]
    },
    {
     "data": {
      "text/plain": "<keras.callbacks.History at 0x1f289062910>"
     },
     "execution_count": 108,
     "metadata": {},
     "output_type": "execute_result"
    }
   ],
   "source": [
    "activation = gelu\n",
    "run_experiment(train_features, train_labels,\n",
    "               run_name=f'activation_{activation.__name__}',\n",
    "               activation=activation,\n",
    "               kernel_initializer=HeNormal())"
   ],
   "metadata": {
    "collapsed": false,
    "pycharm": {
     "name": "#%%\n"
    }
   }
  },
  {
   "cell_type": "code",
   "execution_count": null,
   "outputs": [],
   "source": [],
   "metadata": {
    "collapsed": false,
    "pycharm": {
     "name": "#%%\n"
    }
   }
  }
 ],
 "metadata": {
  "kernelspec": {
   "display_name": "Python 3",
   "language": "python",
   "name": "python3"
  },
  "language_info": {
   "codemirror_mode": {
    "name": "ipython",
    "version": 2
   },
   "file_extension": ".py",
   "mimetype": "text/x-python",
   "name": "python",
   "nbconvert_exporter": "python",
   "pygments_lexer": "ipython2",
   "version": "2.7.6"
  }
 },
 "nbformat": 4,
 "nbformat_minor": 0
}